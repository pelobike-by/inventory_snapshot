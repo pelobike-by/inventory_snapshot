{
 "cells": [
  {
   "cell_type": "code",
   "execution_count": 1,
   "metadata": {},
   "outputs": [],
   "source": [
    "import numpy as np \n",
    "import pandas as pd\n",
    "\n",
    "from helpers import Helper\n",
    "helper = Helper()"
   ]
  },
  {
   "cell_type": "code",
   "execution_count": 2,
   "metadata": {},
   "outputs": [],
   "source": [
    "inventory = pd.read_csv('Inventory_Query_US_CA.csv')\n",
    "prod_info = pd.read_excel('Product_Info.xlsx')\n",
    "site_info = pd.read_excel('Site_Info.xlsx')\n",
    "target = pd.read_excel('Mar20_23_Inventory_Clean.xlsx', sheet_name='March 20 Inventory Clean')\n",
    "prod2 = pd.read_csv('prod2.csv')\n",
    "result = pd.read_excel('inventory_output.xlsx')"
   ]
  },
  {
   "cell_type": "code",
   "execution_count": 3,
   "metadata": {},
   "outputs": [],
   "source": [
    "inventory = helper.remove_whitespace_from_column_names(inventory)\n",
    "prod_info = helper.remove_whitespace_from_column_names(prod_info)\n",
    "site_info = helper.remove_whitespace_from_column_names(site_info)\n",
    "target = helper.remove_whitespace_from_column_names(target)"
   ]
  },
  {
   "attachments": {},
   "cell_type": "markdown",
   "metadata": {},
   "source": [
    "### Step 0\n",
    "\n",
    "Only look at accessories and hardware data in inventory."
   ]
  },
  {
   "cell_type": "code",
   "execution_count": 4,
   "metadata": {},
   "outputs": [],
   "source": [
    "inventory = inventory[(inventory['list_item_name'] == 'CF: Accessory') | (inventory['list_item_name'] == 'CF: Hardware')]\n"
   ]
  },
  {
   "attachments": {},
   "cell_type": "markdown",
   "metadata": {},
   "source": [
    "### Step 1\n",
    "\n",
    "Add `Site Type` info."
   ]
  },
  {
   "cell_type": "code",
   "execution_count": 5,
   "metadata": {},
   "outputs": [],
   "source": [
    "step1_st = inventory.merge(right=site_info, on='loc', how='left')\n",
    "step1_st = helper.move_column_after(step1_st, 'Site Type', 'loc')"
   ]
  },
  {
   "attachments": {},
   "cell_type": "markdown",
   "metadata": {},
   "source": [
    "### Step 2"
   ]
  },
  {
   "attachments": {},
   "cell_type": "markdown",
   "metadata": {},
   "source": [
    "Add `Product Group` and `Product Family` info."
   ]
  },
  {
   "cell_type": "code",
   "execution_count": 6,
   "metadata": {},
   "outputs": [],
   "source": [
    "step2_pgpf = step1_st.merge(right=prod_info, on='item', how='left')\n",
    "step2_pgpf = helper.move_column_after(step2_pgpf, 'Product Group', 'item')\n",
    "step2_pgpf = helper.move_column_after(step2_pgpf, 'Product Family', 'Product Group')"
   ]
  },
  {
   "attachments": {},
   "cell_type": "markdown",
   "metadata": {},
   "source": [
    "### Step 3"
   ]
  },
  {
   "cell_type": "markdown",
   "metadata": {},
   "source": [
    "Add `Sellable/Non Sellable` column."
   ]
  },
  {
   "cell_type": "code",
   "execution_count": 7,
   "metadata": {},
   "outputs": [],
   "source": [
    "step3_sell = step2_pgpf\n",
    "step3_sell['Sellable/Non Sellable'] = step3_sell['bucket'].apply(lambda x: 'Sellable' if x == 'Sellable' or x == 'In Transit' else 'NonSellable')\n",
    "step3_sell = helper.move_column_after(step3_sell, 'Sellable/Non Sellable', 'bucket')"
   ]
  },
  {
   "attachments": {},
   "cell_type": "markdown",
   "metadata": {},
   "source": [
    "### Step 4\n",
    "\n",
    "Compute `Pallets` column."
   ]
  },
  {
   "cell_type": "code",
   "execution_count": 8,
   "metadata": {},
   "outputs": [],
   "source": [
    "step4_pallets = step3_sell\n",
    "step4_pallets['Pallets'] = step4_pallets['qty']/step4_pallets['Units/Pallet']"
   ]
  },
  {
   "attachments": {},
   "cell_type": "markdown",
   "metadata": {},
   "source": [
    "### Step 5\n",
    "\n",
    "Add multiplier info."
   ]
  },
  {
   "cell_type": "code",
   "execution_count": 9,
   "metadata": {},
   "outputs": [],
   "source": [
    "step5_multiplier = step4_pallets\n",
    "step5_multiplier['multiplier'] = step5_multiplier['Sellable/Non Sellable'].apply(lambda x: 2 if x == 'NonSellable' else 1)\n",
    "step5_multiplier.loc[step5_multiplier[\"item\"].isin(prod2[\"item\"]), 'multiplier'] = 2"
   ]
  },
  {
   "cell_type": "markdown",
   "metadata": {},
   "source": [
    "### Step 6"
   ]
  },
  {
   "attachments": {},
   "cell_type": "markdown",
   "metadata": {},
   "source": [
    "Compute pallet positions."
   ]
  },
  {
   "cell_type": "code",
   "execution_count": 10,
   "metadata": {},
   "outputs": [],
   "source": [
    "step6_positions = step5_multiplier\n",
    "step6_positions['Pallet Positions'] = np.ceil(step6_positions['Pallets']*step6_positions['multiplier'])"
   ]
  },
  {
   "attachments": {},
   "cell_type": "markdown",
   "metadata": {},
   "source": [
    "### Step 7\n",
    "\n",
    "Drop extra columns."
   ]
  },
  {
   "cell_type": "code",
   "execution_count": 11,
   "metadata": {},
   "outputs": [],
   "source": [
    "result = step6_positions\n",
    "result = result.drop(columns=['warehouse_code', 'multiplier'])"
   ]
  },
  {
   "attachments": {},
   "cell_type": "markdown",
   "metadata": {},
   "source": [
    "### Export Result"
   ]
  },
  {
   "cell_type": "code",
   "execution_count": 12,
   "metadata": {},
   "outputs": [],
   "source": [
    "result.to_excel('inventory_output.xlsx', index=False)"
   ]
  }
 ],
 "metadata": {
  "kernelspec": {
   "display_name": "base",
   "language": "python",
   "name": "python3"
  },
  "language_info": {
   "codemirror_mode": {
    "name": "ipython",
    "version": 3
   },
   "file_extension": ".py",
   "mimetype": "text/x-python",
   "name": "python",
   "nbconvert_exporter": "python",
   "pygments_lexer": "ipython3",
   "version": "3.9.13"
  },
  "orig_nbformat": 4
 },
 "nbformat": 4,
 "nbformat_minor": 2
}
